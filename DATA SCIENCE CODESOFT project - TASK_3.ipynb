{
 "cells": [
  {
   "cell_type": "markdown",
   "id": "cbaff0c6",
   "metadata": {},
   "source": [
    "# TASK - 3"
   ]
  },
  {
   "cell_type": "markdown",
   "id": "0a013aee",
   "metadata": {},
   "source": [
    "# SALES PREDICTION"
   ]
  },
  {
   "cell_type": "code",
   "execution_count": 2,
   "id": "b7116aae",
   "metadata": {},
   "outputs": [],
   "source": [
    "import numpy as np\n",
    "import pandas as pd\n",
    "import matplotlib.pyplot as plt\n",
    "import seaborn as sns"
   ]
  },
  {
   "cell_type": "code",
   "execution_count": 3,
   "id": "a36a9d82",
   "metadata": {},
   "outputs": [
    {
     "data": {
      "text/html": [
       "<div>\n",
       "<style scoped>\n",
       "    .dataframe tbody tr th:only-of-type {\n",
       "        vertical-align: middle;\n",
       "    }\n",
       "\n",
       "    .dataframe tbody tr th {\n",
       "        vertical-align: top;\n",
       "    }\n",
       "\n",
       "    .dataframe thead th {\n",
       "        text-align: right;\n",
       "    }\n",
       "</style>\n",
       "<table border=\"1\" class=\"dataframe\">\n",
       "  <thead>\n",
       "    <tr style=\"text-align: right;\">\n",
       "      <th></th>\n",
       "      <th>TV</th>\n",
       "      <th>Radio</th>\n",
       "      <th>Newspaper</th>\n",
       "      <th>Sales</th>\n",
       "    </tr>\n",
       "  </thead>\n",
       "  <tbody>\n",
       "    <tr>\n",
       "      <th>0</th>\n",
       "      <td>230.1</td>\n",
       "      <td>37.8</td>\n",
       "      <td>69.2</td>\n",
       "      <td>22.1</td>\n",
       "    </tr>\n",
       "    <tr>\n",
       "      <th>1</th>\n",
       "      <td>44.5</td>\n",
       "      <td>39.3</td>\n",
       "      <td>45.1</td>\n",
       "      <td>10.4</td>\n",
       "    </tr>\n",
       "    <tr>\n",
       "      <th>2</th>\n",
       "      <td>17.2</td>\n",
       "      <td>45.9</td>\n",
       "      <td>69.3</td>\n",
       "      <td>12.0</td>\n",
       "    </tr>\n",
       "    <tr>\n",
       "      <th>3</th>\n",
       "      <td>151.5</td>\n",
       "      <td>41.3</td>\n",
       "      <td>58.5</td>\n",
       "      <td>16.5</td>\n",
       "    </tr>\n",
       "    <tr>\n",
       "      <th>4</th>\n",
       "      <td>180.8</td>\n",
       "      <td>10.8</td>\n",
       "      <td>58.4</td>\n",
       "      <td>17.9</td>\n",
       "    </tr>\n",
       "  </tbody>\n",
       "</table>\n",
       "</div>"
      ],
      "text/plain": [
       "      TV  Radio  Newspaper  Sales\n",
       "0  230.1   37.8       69.2   22.1\n",
       "1   44.5   39.3       45.1   10.4\n",
       "2   17.2   45.9       69.3   12.0\n",
       "3  151.5   41.3       58.5   16.5\n",
       "4  180.8   10.8       58.4   17.9"
      ]
     },
     "execution_count": 3,
     "metadata": {},
     "output_type": "execute_result"
    }
   ],
   "source": [
    "Sales_prid = pd.read_csv(\"C:\\\\Users\\\\Arti Rajawat\\\\Downloads\\\\advertising.csv\")\n",
    "Sales_prid.head()"
   ]
  },
  {
   "cell_type": "code",
   "execution_count": 4,
   "id": "bf704bb7",
   "metadata": {},
   "outputs": [
    {
     "data": {
      "text/plain": [
       "(200, 4)"
      ]
     },
     "execution_count": 4,
     "metadata": {},
     "output_type": "execute_result"
    }
   ],
   "source": [
    "Sales_prid.shape"
   ]
  },
  {
   "cell_type": "code",
   "execution_count": 5,
   "id": "447eb599",
   "metadata": {},
   "outputs": [
    {
     "data": {
      "text/html": [
       "<div>\n",
       "<style scoped>\n",
       "    .dataframe tbody tr th:only-of-type {\n",
       "        vertical-align: middle;\n",
       "    }\n",
       "\n",
       "    .dataframe tbody tr th {\n",
       "        vertical-align: top;\n",
       "    }\n",
       "\n",
       "    .dataframe thead th {\n",
       "        text-align: right;\n",
       "    }\n",
       "</style>\n",
       "<table border=\"1\" class=\"dataframe\">\n",
       "  <thead>\n",
       "    <tr style=\"text-align: right;\">\n",
       "      <th></th>\n",
       "      <th>TV</th>\n",
       "      <th>Radio</th>\n",
       "      <th>Newspaper</th>\n",
       "      <th>Sales</th>\n",
       "    </tr>\n",
       "  </thead>\n",
       "  <tbody>\n",
       "    <tr>\n",
       "      <th>count</th>\n",
       "      <td>200.000000</td>\n",
       "      <td>200.000000</td>\n",
       "      <td>200.000000</td>\n",
       "      <td>200.000000</td>\n",
       "    </tr>\n",
       "    <tr>\n",
       "      <th>mean</th>\n",
       "      <td>147.042500</td>\n",
       "      <td>23.264000</td>\n",
       "      <td>30.554000</td>\n",
       "      <td>15.130500</td>\n",
       "    </tr>\n",
       "    <tr>\n",
       "      <th>std</th>\n",
       "      <td>85.854236</td>\n",
       "      <td>14.846809</td>\n",
       "      <td>21.778621</td>\n",
       "      <td>5.283892</td>\n",
       "    </tr>\n",
       "    <tr>\n",
       "      <th>min</th>\n",
       "      <td>0.700000</td>\n",
       "      <td>0.000000</td>\n",
       "      <td>0.300000</td>\n",
       "      <td>1.600000</td>\n",
       "    </tr>\n",
       "    <tr>\n",
       "      <th>25%</th>\n",
       "      <td>74.375000</td>\n",
       "      <td>9.975000</td>\n",
       "      <td>12.750000</td>\n",
       "      <td>11.000000</td>\n",
       "    </tr>\n",
       "    <tr>\n",
       "      <th>50%</th>\n",
       "      <td>149.750000</td>\n",
       "      <td>22.900000</td>\n",
       "      <td>25.750000</td>\n",
       "      <td>16.000000</td>\n",
       "    </tr>\n",
       "    <tr>\n",
       "      <th>75%</th>\n",
       "      <td>218.825000</td>\n",
       "      <td>36.525000</td>\n",
       "      <td>45.100000</td>\n",
       "      <td>19.050000</td>\n",
       "    </tr>\n",
       "    <tr>\n",
       "      <th>max</th>\n",
       "      <td>296.400000</td>\n",
       "      <td>49.600000</td>\n",
       "      <td>114.000000</td>\n",
       "      <td>27.000000</td>\n",
       "    </tr>\n",
       "  </tbody>\n",
       "</table>\n",
       "</div>"
      ],
      "text/plain": [
       "               TV       Radio   Newspaper       Sales\n",
       "count  200.000000  200.000000  200.000000  200.000000\n",
       "mean   147.042500   23.264000   30.554000   15.130500\n",
       "std     85.854236   14.846809   21.778621    5.283892\n",
       "min      0.700000    0.000000    0.300000    1.600000\n",
       "25%     74.375000    9.975000   12.750000   11.000000\n",
       "50%    149.750000   22.900000   25.750000   16.000000\n",
       "75%    218.825000   36.525000   45.100000   19.050000\n",
       "max    296.400000   49.600000  114.000000   27.000000"
      ]
     },
     "execution_count": 5,
     "metadata": {},
     "output_type": "execute_result"
    }
   ],
   "source": [
    "Sales_prid.describe(include='all')"
   ]
  },
  {
   "cell_type": "code",
   "execution_count": 6,
   "id": "a5628062",
   "metadata": {},
   "outputs": [
    {
     "name": "stdout",
     "output_type": "stream",
     "text": [
      "<class 'pandas.core.frame.DataFrame'>\n",
      "RangeIndex: 200 entries, 0 to 199\n",
      "Data columns (total 4 columns):\n",
      " #   Column     Non-Null Count  Dtype  \n",
      "---  ------     --------------  -----  \n",
      " 0   TV         200 non-null    float64\n",
      " 1   Radio      200 non-null    float64\n",
      " 2   Newspaper  200 non-null    float64\n",
      " 3   Sales      200 non-null    float64\n",
      "dtypes: float64(4)\n",
      "memory usage: 6.4 KB\n"
     ]
    }
   ],
   "source": [
    "Sales_prid.info()"
   ]
  },
  {
   "cell_type": "code",
   "execution_count": 7,
   "id": "af2a13ab",
   "metadata": {},
   "outputs": [
    {
     "data": {
      "text/plain": [
       "TV           0\n",
       "Radio        0\n",
       "Newspaper    0\n",
       "Sales        0\n",
       "dtype: int64"
      ]
     },
     "execution_count": 7,
     "metadata": {},
     "output_type": "execute_result"
    }
   ],
   "source": [
    "Sales_prid.isnull().sum()"
   ]
  },
  {
   "cell_type": "code",
   "execution_count": 8,
   "id": "03ff3293",
   "metadata": {},
   "outputs": [
    {
     "data": {
      "text/plain": [
       "0"
      ]
     },
     "execution_count": 8,
     "metadata": {},
     "output_type": "execute_result"
    }
   ],
   "source": [
    "Sales_prid.duplicated().sum()"
   ]
  },
  {
   "cell_type": "code",
   "execution_count": 9,
   "id": "17b56776",
   "metadata": {},
   "outputs": [
    {
     "data": {
      "image/png": "[encoded data removed]",
      "text/plain": [
       "<Figure size 800x600 with 1 Axes>"
      ]
     },
     "metadata": {},
     "output_type": "display_data"
    }
   ],
   "source": [
    "# Create a boxplot for the columns 'TV', 'Radio', and 'Newspaper'\n",
    "plt.figure(figsize=(8, 6))\n",
    "Sales_prid.boxplot(column=['TV', 'Radio', 'Newspaper'])\n",
    "plt.title(\"Boxplot for 'TV', 'Radio', and 'Newspaper'\")\n",
    "plt.ylabel(\"Values\")\n",
    "plt.xlabel(\"Columns\")\n",
    "plt.show()\n"
   ]
  },
  {
   "cell_type": "code",
   "execution_count": 10,
   "id": "c51f0ebf",
   "metadata": {},
   "outputs": [
    {
     "data": {
      "image/png": "[encoded data removed]",
      "text/plain": [
       "<Figure size 1000x800 with 3 Axes>"
      ]
     },
     "metadata": {},
     "output_type": "display_data"
    }
   ],
   "source": [
    "\n",
    "# Create individual graphs for each column against 'Sales' using Seaborn\n",
    "plt.figure(figsize=(10, 8))\n",
    "\n",
    "# TV vs. Sales\n",
    "plt.subplot(1, 3, 1)\n",
    "sns.scatterplot(x='TV', y='Sales', data=Sales_prid)\n",
    "plt.title(\"TV vs. Sales\")\n",
    "\n",
    "# Radio vs. Sales\n",
    "plt.subplot(1, 3, 2)\n",
    "sns.scatterplot(x='Radio', y='Sales', data=Sales_prid)\n",
    "plt.title(\"Radio vs. Sales\")\n",
    "\n",
    "# Newspaper vs. Sales\n",
    "plt.subplot(1, 3, 3)\n",
    "sns.scatterplot(x='Newspaper', y='Sales', data=Sales_prid)\n",
    "plt.title(\"Newspaper vs. Sales\")\n",
    "\n",
    "plt.tight_layout()\n",
    "plt.show()\n"
   ]
  },
  {
   "cell_type": "code",
   "execution_count": 12,
   "id": "9982e2e0",
   "metadata": {},
   "outputs": [
    {
     "data": {
      "text/html": [
       "<style type=\"text/css\">\n",
       "#T_e00d6_row8_col1 {\n",
       "  background-color: lightgreen;\n",
       "}\n",
       "</style>\n",
       "<table id=\"T_e00d6\">\n",
       "  <thead>\n",
       "    <tr>\n",
       "      <th class=\"blank level0\" >&nbsp;</th>\n",
       "      <th id=\"T_e00d6_level0_col0\" class=\"col_heading level0 col0\" >Description</th>\n",
       "      <th id=\"T_e00d6_level0_col1\" class=\"col_heading level0 col1\" >Value</th>\n",
       "    </tr>\n",
       "  </thead>\n",
       "  <tbody>\n",
       "    <tr>\n",
       "      <th id=\"T_e00d6_level0_row0\" class=\"row_heading level0 row0\" >0</th>\n",
       "      <td id=\"T_e00d6_row0_col0\" class=\"data row0 col0\" >Session id</td>\n",
       "      <td id=\"T_e00d6_row0_col1\" class=\"data row0 col1\" >123</td>\n",
       "    </tr>\n",
       "    <tr>\n",
       "      <th id=\"T_e00d6_level0_row1\" class=\"row_heading level0 row1\" >1</th>\n",
       "      <td id=\"T_e00d6_row1_col0\" class=\"data row1 col0\" >Target</td>\n",
       "      <td id=\"T_e00d6_row1_col1\" class=\"data row1 col1\" >Sales</td>\n",
       "    </tr>\n",
       "    <tr>\n",
       "      <th id=\"T_e00d6_level0_row2\" class=\"row_heading level0 row2\" >2</th>\n",
       "      <td id=\"T_e00d6_row2_col0\" class=\"data row2 col0\" >Target type</td>\n",
       "      <td id=\"T_e00d6_row2_col1\" class=\"data row2 col1\" >Regression</td>\n",
       "    </tr>\n",
       "    <tr>\n",
       "      <th id=\"T_e00d6_level0_row3\" class=\"row_heading level0 row3\" >3</th>\n",
       "      <td id=\"T_e00d6_row3_col0\" class=\"data row3 col0\" >Original data shape</td>\n",
       "      <td id=\"T_e00d6_row3_col1\" class=\"data row3 col1\" >(200, 4)</td>\n",
       "    </tr>\n",
       "    <tr>\n",
       "      <th id=\"T_e00d6_level0_row4\" class=\"row_heading level0 row4\" >4</th>\n",
       "      <td id=\"T_e00d6_row4_col0\" class=\"data row4 col0\" >Transformed data shape</td>\n",
       "      <td id=\"T_e00d6_row4_col1\" class=\"data row4 col1\" >(200, 4)</td>\n",
       "    </tr>\n",
       "    <tr>\n",
       "      <th id=\"T_e00d6_level0_row5\" class=\"row_heading level0 row5\" >5</th>\n",
       "      <td id=\"T_e00d6_row5_col0\" class=\"data row5 col0\" >Transformed train set shape</td>\n",
       "      <td id=\"T_e00d6_row5_col1\" class=\"data row5 col1\" >(140, 4)</td>\n",
       "    </tr>\n",
       "    <tr>\n",
       "      <th id=\"T_e00d6_level0_row6\" class=\"row_heading level0 row6\" >6</th>\n",
       "      <td id=\"T_e00d6_row6_col0\" class=\"data row6 col0\" >Transformed test set shape</td>\n",
       "      <td id=\"T_e00d6_row6_col1\" class=\"data row6 col1\" >(60, 4)</td>\n",
       "    </tr>\n",
       "    <tr>\n",
       "      <th id=\"T_e00d6_level0_row7\" class=\"row_heading level0 row7\" >7</th>\n",
       "      <td id=\"T_e00d6_row7_col0\" class=\"data row7 col0\" >Numeric features</td>\n",
       "      <td id=\"T_e00d6_row7_col1\" class=\"data row7 col1\" >3</td>\n",
       "    </tr>\n",
       "    <tr>\n",
       "      <th id=\"T_e00d6_level0_row8\" class=\"row_heading level0 row8\" >8</th>\n",
       "      <td id=\"T_e00d6_row8_col0\" class=\"data row8 col0\" >Preprocess</td>\n",
       "      <td id=\"T_e00d6_row8_col1\" class=\"data row8 col1\" >True</td>\n",
       "    </tr>\n",
       "    <tr>\n",
       "      <th id=\"T_e00d6_level0_row9\" class=\"row_heading level0 row9\" >9</th>\n",
       "      <td id=\"T_e00d6_row9_col0\" class=\"data row9 col0\" >Imputation type</td>\n",
       "      <td id=\"T_e00d6_row9_col1\" class=\"data row9 col1\" >simple</td>\n",
       "    </tr>\n",
       "    <tr>\n",
       "      <th id=\"T_e00d6_level0_row10\" class=\"row_heading level0 row10\" >10</th>\n",
       "      <td id=\"T_e00d6_row10_col0\" class=\"data row10 col0\" >Numeric imputation</td>\n",
       "      <td id=\"T_e00d6_row10_col1\" class=\"data row10 col1\" >mean</td>\n",
       "    </tr>\n",
       "    <tr>\n",
       "      <th id=\"T_e00d6_level0_row11\" class=\"row_heading level0 row11\" >11</th>\n",
       "      <td id=\"T_e00d6_row11_col0\" class=\"data row11 col0\" >Categorical imputation</td>\n",
       "      <td id=\"T_e00d6_row11_col1\" class=\"data row11 col1\" >mode</td>\n",
       "    </tr>\n",
       "    <tr>\n",
       "      <th id=\"T_e00d6_level0_row12\" class=\"row_heading level0 row12\" >12</th>\n",
       "      <td id=\"T_e00d6_row12_col0\" class=\"data row12 col0\" >Fold Generator</td>\n",
       "      <td id=\"T_e00d6_row12_col1\" class=\"data row12 col1\" >KFold</td>\n",
       "    </tr>\n",
       "    <tr>\n",
       "      <th id=\"T_e00d6_level0_row13\" class=\"row_heading level0 row13\" >13</th>\n",
       "      <td id=\"T_e00d6_row13_col0\" class=\"data row13 col0\" >Fold Number</td>\n",
       "      <td id=\"T_e00d6_row13_col1\" class=\"data row13 col1\" >10</td>\n",
       "    </tr>\n",
       "    <tr>\n",
       "      <th id=\"T_e00d6_level0_row14\" class=\"row_heading level0 row14\" >14</th>\n",
       "      <td id=\"T_e00d6_row14_col0\" class=\"data row14 col0\" >CPU Jobs</td>\n",
       "      <td id=\"T_e00d6_row14_col1\" class=\"data row14 col1\" >-1</td>\n",
       "    </tr>\n",
       "    <tr>\n",
       "      <th id=\"T_e00d6_level0_row15\" class=\"row_heading level0 row15\" >15</th>\n",
       "      <td id=\"T_e00d6_row15_col0\" class=\"data row15 col0\" >Use GPU</td>\n",
       "      <td id=\"T_e00d6_row15_col1\" class=\"data row15 col1\" >False</td>\n",
       "    </tr>\n",
       "    <tr>\n",
       "      <th id=\"T_e00d6_level0_row16\" class=\"row_heading level0 row16\" >16</th>\n",
       "      <td id=\"T_e00d6_row16_col0\" class=\"data row16 col0\" >Log Experiment</td>\n",
       "      <td id=\"T_e00d6_row16_col1\" class=\"data row16 col1\" >False</td>\n",
       "    </tr>\n",
       "    <tr>\n",
       "      <th id=\"T_e00d6_level0_row17\" class=\"row_heading level0 row17\" >17</th>\n",
       "      <td id=\"T_e00d6_row17_col0\" class=\"data row17 col0\" >Experiment Name</td>\n",
       "      <td id=\"T_e00d6_row17_col1\" class=\"data row17 col1\" >reg-default-name</td>\n",
       "    </tr>\n",
       "    <tr>\n",
       "      <th id=\"T_e00d6_level0_row18\" class=\"row_heading level0 row18\" >18</th>\n",
       "      <td id=\"T_e00d6_row18_col0\" class=\"data row18 col0\" >USI</td>\n",
       "      <td id=\"T_e00d6_row18_col1\" class=\"data row18 col1\" >0455</td>\n",
       "    </tr>\n",
       "  </tbody>\n",
       "</table>\n"
      ],
      "text/plain": [
       "<pandas.io.formats.style.Styler at 0x1fc8f684580>"
      ]
     },
     "metadata": {},
     "output_type": "display_data"
    },
    {
     "data": {
      "text/html": [],
      "text/plain": [
       "<IPython.core.display.HTML object>"
      ]
     },
     "metadata": {},
     "output_type": "display_data"
    },
    {
     "data": {
      "text/html": [
       "<style type=\"text/css\">\n",
       "#T_ac516 th {\n",
       "  text-align: left;\n",
       "}\n",
       "#T_ac516_row0_col0, #T_ac516_row1_col0, #T_ac516_row1_col1, #T_ac516_row1_col2, #T_ac516_row1_col3, #T_ac516_row1_col4, #T_ac516_row1_col5, #T_ac516_row1_col6, #T_ac516_row2_col0, #T_ac516_row2_col1, #T_ac516_row2_col2, #T_ac516_row2_col3, #T_ac516_row2_col4, #T_ac516_row2_col5, #T_ac516_row2_col6, #T_ac516_row3_col0, #T_ac516_row3_col1, #T_ac516_row3_col2, #T_ac516_row3_col3, #T_ac516_row3_col4, #T_ac516_row3_col5, #T_ac516_row3_col6, #T_ac516_row4_col0, #T_ac516_row4_col1, #T_ac516_row4_col2, #T_ac516_row4_col3, #T_ac516_row4_col4, #T_ac516_row4_col5, #T_ac516_row4_col6, #T_ac516_row5_col0, #T_ac516_row5_col1, #T_ac516_row5_col2, #T_ac516_row5_col3, #T_ac516_row5_col4, #T_ac516_row5_col5, #T_ac516_row5_col6, #T_ac516_row6_col0, #T_ac516_row6_col1, #T_ac516_row6_col2, #T_ac516_row6_col3, #T_ac516_row6_col4, #T_ac516_row6_col5, #T_ac516_row6_col6, #T_ac516_row7_col0, #T_ac516_row7_col1, #T_ac516_row7_col2, #T_ac516_row7_col3, #T_ac516_row7_col4, #T_ac516_row7_col5, #T_ac516_row7_col6, #T_ac516_row8_col0, #T_ac516_row8_col1, #T_ac516_row8_col2, #T_ac516_row8_col3, #T_ac516_row8_col4, #T_ac516_row8_col5, #T_ac516_row8_col6, #T_ac516_row9_col0, #T_ac516_row9_col1, #T_ac516_row9_col2, #T_ac516_row9_col3, #T_ac516_row9_col4, #T_ac516_row9_col5, #T_ac516_row9_col6, #T_ac516_row10_col0, #T_ac516_row10_col1, #T_ac516_row10_col2, #T_ac516_row10_col3, #T_ac516_row10_col4, #T_ac516_row10_col5, #T_ac516_row10_col6, #T_ac516_row11_col0, #T_ac516_row11_col1, #T_ac516_row11_col2, #T_ac516_row11_col3, #T_ac516_row11_col4, #T_ac516_row11_col5, #T_ac516_row11_col6, #T_ac516_row12_col0, #T_ac516_row12_col1, #T_ac516_row12_col2, #T_ac516_row12_col3, #T_ac516_row12_col4, #T_ac516_row12_col5, #T_ac516_row12_col6, #T_ac516_row13_col0, #T_ac516_row13_col1, #T_ac516_row13_col2, #T_ac516_row13_col3, #T_ac516_row13_col4, #T_ac516_row13_col5, #T_ac516_row13_col6, #T_ac516_row14_col0, #T_ac516_row14_col1, #T_ac516_row14_col2, #T_ac516_row14_col3, #T_ac516_row14_col4, #T_ac516_row14_col5, #T_ac516_row14_col6, #T_ac516_row15_col0, #T_ac516_row15_col1, #T_ac516_row15_col2, #T_ac516_row15_col3, #T_ac516_row15_col4, #T_ac516_row15_col5, #T_ac516_row15_col6, #T_ac516_row16_col0, #T_ac516_row16_col1, #T_ac516_row16_col2, #T_ac516_row16_col3, #T_ac516_row16_col4, #T_ac516_row16_col5, #T_ac516_row16_col6, #T_ac516_row17_col0, #T_ac516_row17_col1, #T_ac516_row17_col2, #T_ac516_row17_col3, #T_ac516_row17_col4, #T_ac516_row17_col5, #T_ac516_row17_col6 {\n",
       "  text-align: left;\n",
       "}\n",
       "#T_ac516_row0_col1, #T_ac516_row0_col2, #T_ac516_row0_col3, #T_ac516_row0_col4, #T_ac516_row0_col5, #T_ac516_row0_col6 {\n",
       "  text-align: left;\n",
       "  background-color: yellow;\n",
       "}\n",
       "#T_ac516_row0_col7, #T_ac516_row1_col7, #T_ac516_row2_col7, #T_ac516_row3_col7, #T_ac516_row4_col7, #T_ac516_row5_col7, #T_ac516_row6_col7, #T_ac516_row8_col7, #T_ac516_row9_col7, #T_ac516_row10_col7, #T_ac516_row11_col7, #T_ac516_row12_col7, #T_ac516_row13_col7, #T_ac516_row14_col7, #T_ac516_row15_col7, #T_ac516_row16_col7, #T_ac516_row17_col7 {\n",
       "  text-align: left;\n",
       "  background-color: lightgrey;\n",
       "}\n",
       "#T_ac516_row7_col7 {\n",
       "  text-align: left;\n",
       "  background-color: yellow;\n",
       "  background-color: lightgrey;\n",
       "}\n",
       "</style>\n",
       "<table id=\"T_ac516\">\n",
       "  <thead>\n",
       "    <tr>\n",
       "      <th class=\"blank level0\" >&nbsp;</th>\n",
       "      <th id=\"T_ac516_level0_col0\" class=\"col_heading level0 col0\" >Model</th>\n",
       "      <th id=\"T_ac516_level0_col1\" class=\"col_heading level0 col1\" >MAE</th>\n",
       "      <th id=\"T_ac516_level0_col2\" class=\"col_heading level0 col2\" >MSE</th>\n",
       "      <th id=\"T_ac516_level0_col3\" class=\"col_heading level0 col3\" >RMSE</th>\n",
       "      <th id=\"T_ac516_level0_col4\" class=\"col_heading level0 col4\" >R2</th>\n",
       "      <th id=\"T_ac516_level0_col5\" class=\"col_heading level0 col5\" >RMSLE</th>\n",
       "      <th id=\"T_ac516_level0_col6\" class=\"col_heading level0 col6\" >MAPE</th>\n",
       "      <th id=\"T_ac516_level0_col7\" class=\"col_heading level0 col7\" >TT (Sec)</th>\n",
       "    </tr>\n",
       "  </thead>\n",
       "  <tbody>\n",
       "    <tr>\n",
       "      <th id=\"T_ac516_level0_row0\" class=\"row_heading level0 row0\" >et</th>\n",
       "      <td id=\"T_ac516_row0_col0\" class=\"data row0 col0\" >Extra Trees Regressor</td>\n",
       "      <td id=\"T_ac516_row0_col1\" class=\"data row0 col1\" >0.8101</td>\n",
       "      <td id=\"T_ac516_row0_col2\" class=\"data row0 col2\" >1.1968</td>\n",
       "      <td id=\"T_ac516_row0_col3\" class=\"data row0 col3\" >1.0709</td>\n",
       "      <td id=\"T_ac516_row0_col4\" class=\"data row0 col4\" >0.9543</td>\n",
       "      <td id=\"T_ac516_row0_col5\" class=\"data row0 col5\" >0.0929</td>\n",
       "      <td id=\"T_ac516_row0_col6\" class=\"data row0 col6\" >0.0771</td>\n",
       "      <td id=\"T_ac516_row0_col7\" class=\"data row0 col7\" >5.0560</td>\n",
       "    </tr>\n",
       "    <tr>\n",
       "      <th id=\"T_ac516_level0_row1\" class=\"row_heading level0 row1\" >rf</th>\n",
       "      <td id=\"T_ac516_row1_col0\" class=\"data row1 col0\" >Random Forest Regressor</td>\n",
       "      <td id=\"T_ac516_row1_col1\" class=\"data row1 col1\" >0.9379</td>\n",
       "      <td id=\"T_ac516_row1_col2\" class=\"data row1 col2\" >1.6216</td>\n",
       "      <td id=\"T_ac516_row1_col3\" class=\"data row1 col3\" >1.2355</td>\n",
       "      <td id=\"T_ac516_row1_col4\" class=\"data row1 col4\" >0.9381</td>\n",
       "      <td id=\"T_ac516_row1_col5\" class=\"data row1 col5\" >0.1069</td>\n",
       "      <td id=\"T_ac516_row1_col6\" class=\"data row1 col6\" >0.0899</td>\n",
       "      <td id=\"T_ac516_row1_col7\" class=\"data row1 col7\" >4.7780</td>\n",
       "    </tr>\n",
       "    <tr>\n",
       "      <th id=\"T_ac516_level0_row2\" class=\"row_heading level0 row2\" >gbr</th>\n",
       "      <td id=\"T_ac516_row2_col0\" class=\"data row2 col0\" >Gradient Boosting Regressor</td>\n",
       "      <td id=\"T_ac516_row2_col1\" class=\"data row2 col1\" >0.9616</td>\n",
       "      <td id=\"T_ac516_row2_col2\" class=\"data row2 col2\" >1.6720</td>\n",
       "      <td id=\"T_ac516_row2_col3\" class=\"data row2 col3\" >1.2445</td>\n",
       "      <td id=\"T_ac516_row2_col4\" class=\"data row2 col4\" >0.9377</td>\n",
       "      <td id=\"T_ac516_row2_col5\" class=\"data row2 col5\" >0.1088</td>\n",
       "      <td id=\"T_ac516_row2_col6\" class=\"data row2 col6\" >0.0926</td>\n",
       "      <td id=\"T_ac516_row2_col7\" class=\"data row2 col7\" >5.0490</td>\n",
       "    </tr>\n",
       "    <tr>\n",
       "      <th id=\"T_ac516_level0_row3\" class=\"row_heading level0 row3\" >ada</th>\n",
       "      <td id=\"T_ac516_row3_col0\" class=\"data row3 col0\" >AdaBoost Regressor</td>\n",
       "      <td id=\"T_ac516_row3_col1\" class=\"data row3 col1\" >1.2241</td>\n",
       "      <td id=\"T_ac516_row3_col2\" class=\"data row3 col2\" >2.3662</td>\n",
       "      <td id=\"T_ac516_row3_col3\" class=\"data row3 col3\" >1.4917</td>\n",
       "      <td id=\"T_ac516_row3_col4\" class=\"data row3 col4\" >0.9109</td>\n",
       "      <td id=\"T_ac516_row3_col5\" class=\"data row3 col5\" >0.1253</td>\n",
       "      <td id=\"T_ac516_row3_col6\" class=\"data row3 col6\" >0.1152</td>\n",
       "      <td id=\"T_ac516_row3_col7\" class=\"data row3 col7\" >4.5750</td>\n",
       "    </tr>\n",
       "    <tr>\n",
       "      <th id=\"T_ac516_level0_row4\" class=\"row_heading level0 row4\" >dt</th>\n",
       "      <td id=\"T_ac516_row4_col0\" class=\"data row4 col0\" >Decision Tree Regressor</td>\n",
       "      <td id=\"T_ac516_row4_col1\" class=\"data row4 col1\" >1.1857</td>\n",
       "      <td id=\"T_ac516_row4_col2\" class=\"data row4 col2\" >2.6043</td>\n",
       "      <td id=\"T_ac516_row4_col3\" class=\"data row4 col3\" >1.5659</td>\n",
       "      <td id=\"T_ac516_row4_col4\" class=\"data row4 col4\" >0.9043</td>\n",
       "      <td id=\"T_ac516_row4_col5\" class=\"data row4 col5\" >0.1279</td>\n",
       "      <td id=\"T_ac516_row4_col6\" class=\"data row4 col6\" >0.1099</td>\n",
       "      <td id=\"T_ac516_row4_col7\" class=\"data row4 col7\" >4.9040</td>\n",
       "    </tr>\n",
       "    <tr>\n",
       "      <th id=\"T_ac516_level0_row5\" class=\"row_heading level0 row5\" >knn</th>\n",
       "      <td id=\"T_ac516_row5_col0\" class=\"data row5 col0\" >K Neighbors Regressor</td>\n",
       "      <td id=\"T_ac516_row5_col1\" class=\"data row5 col1\" >1.2737</td>\n",
       "      <td id=\"T_ac516_row5_col2\" class=\"data row5 col2\" >2.5592</td>\n",
       "      <td id=\"T_ac516_row5_col3\" class=\"data row5 col3\" >1.5748</td>\n",
       "      <td id=\"T_ac516_row5_col4\" class=\"data row5 col4\" >0.9004</td>\n",
       "      <td id=\"T_ac516_row5_col5\" class=\"data row5 col5\" >0.1202</td>\n",
       "      <td id=\"T_ac516_row5_col6\" class=\"data row5 col6\" >0.1119</td>\n",
       "      <td id=\"T_ac516_row5_col7\" class=\"data row5 col7\" >3.9150</td>\n",
       "    </tr>\n",
       "    <tr>\n",
       "      <th id=\"T_ac516_level0_row6\" class=\"row_heading level0 row6\" >lasso</th>\n",
       "      <td id=\"T_ac516_row6_col0\" class=\"data row6 col0\" >Lasso Regression</td>\n",
       "      <td id=\"T_ac516_row6_col1\" class=\"data row6 col1\" >1.2247</td>\n",
       "      <td id=\"T_ac516_row6_col2\" class=\"data row6 col2\" >2.6154</td>\n",
       "      <td id=\"T_ac516_row6_col3\" class=\"data row6 col3\" >1.5644</td>\n",
       "      <td id=\"T_ac516_row6_col4\" class=\"data row6 col4\" >0.8991</td>\n",
       "      <td id=\"T_ac516_row6_col5\" class=\"data row6 col5\" >0.1359</td>\n",
       "      <td id=\"T_ac516_row6_col6\" class=\"data row6 col6\" >0.1235</td>\n",
       "      <td id=\"T_ac516_row6_col7\" class=\"data row6 col7\" >4.0830</td>\n",
       "    </tr>\n",
       "    <tr>\n",
       "      <th id=\"T_ac516_level0_row7\" class=\"row_heading level0 row7\" >llar</th>\n",
       "      <td id=\"T_ac516_row7_col0\" class=\"data row7 col0\" >Lasso Least Angle Regression</td>\n",
       "      <td id=\"T_ac516_row7_col1\" class=\"data row7 col1\" >1.2247</td>\n",
       "      <td id=\"T_ac516_row7_col2\" class=\"data row7 col2\" >2.6154</td>\n",
       "      <td id=\"T_ac516_row7_col3\" class=\"data row7 col3\" >1.5644</td>\n",
       "      <td id=\"T_ac516_row7_col4\" class=\"data row7 col4\" >0.8991</td>\n",
       "      <td id=\"T_ac516_row7_col5\" class=\"data row7 col5\" >0.1359</td>\n",
       "      <td id=\"T_ac516_row7_col6\" class=\"data row7 col6\" >0.1235</td>\n",
       "      <td id=\"T_ac516_row7_col7\" class=\"data row7 col7\" >3.0600</td>\n",
       "    </tr>\n",
       "    <tr>\n",
       "      <th id=\"T_ac516_level0_row8\" class=\"row_heading level0 row8\" >en</th>\n",
       "      <td id=\"T_ac516_row8_col0\" class=\"data row8 col0\" >Elastic Net</td>\n",
       "      <td id=\"T_ac516_row8_col1\" class=\"data row8 col1\" >1.2251</td>\n",
       "      <td id=\"T_ac516_row8_col2\" class=\"data row8 col2\" >2.6298</td>\n",
       "      <td id=\"T_ac516_row8_col3\" class=\"data row8 col3\" >1.5672</td>\n",
       "      <td id=\"T_ac516_row8_col4\" class=\"data row8 col4\" >0.8985</td>\n",
       "      <td id=\"T_ac516_row8_col5\" class=\"data row8 col5\" >0.1366</td>\n",
       "      <td id=\"T_ac516_row8_col6\" class=\"data row8 col6\" >0.1240</td>\n",
       "      <td id=\"T_ac516_row8_col7\" class=\"data row8 col7\" >3.2360</td>\n",
       "    </tr>\n",
       "    <tr>\n",
       "      <th id=\"T_ac516_level0_row9\" class=\"row_heading level0 row9\" >lar</th>\n",
       "      <td id=\"T_ac516_row9_col0\" class=\"data row9 col0\" >Least Angle Regression</td>\n",
       "      <td id=\"T_ac516_row9_col1\" class=\"data row9 col1\" >1.2270</td>\n",
       "      <td id=\"T_ac516_row9_col2\" class=\"data row9 col2\" >2.6435</td>\n",
       "      <td id=\"T_ac516_row9_col3\" class=\"data row9 col3\" >1.5693</td>\n",
       "      <td id=\"T_ac516_row9_col4\" class=\"data row9 col4\" >0.8980</td>\n",
       "      <td id=\"T_ac516_row9_col5\" class=\"data row9 col5\" >0.1373</td>\n",
       "      <td id=\"T_ac516_row9_col6\" class=\"data row9 col6\" >0.1248</td>\n",
       "      <td id=\"T_ac516_row9_col7\" class=\"data row9 col7\" >3.4580</td>\n",
       "    </tr>\n",
       "    <tr>\n",
       "      <th id=\"T_ac516_level0_row10\" class=\"row_heading level0 row10\" >lr</th>\n",
       "      <td id=\"T_ac516_row10_col0\" class=\"data row10 col0\" >Linear Regression</td>\n",
       "      <td id=\"T_ac516_row10_col1\" class=\"data row10 col1\" >1.2270</td>\n",
       "      <td id=\"T_ac516_row10_col2\" class=\"data row10 col2\" >2.6435</td>\n",
       "      <td id=\"T_ac516_row10_col3\" class=\"data row10 col3\" >1.5693</td>\n",
       "      <td id=\"T_ac516_row10_col4\" class=\"data row10 col4\" >0.8980</td>\n",
       "      <td id=\"T_ac516_row10_col5\" class=\"data row10 col5\" >0.1373</td>\n",
       "      <td id=\"T_ac516_row10_col6\" class=\"data row10 col6\" >0.1248</td>\n",
       "      <td id=\"T_ac516_row10_col7\" class=\"data row10 col7\" >6.8770</td>\n",
       "    </tr>\n",
       "    <tr>\n",
       "      <th id=\"T_ac516_level0_row11\" class=\"row_heading level0 row11\" >ridge</th>\n",
       "      <td id=\"T_ac516_row11_col0\" class=\"data row11 col0\" >Ridge Regression</td>\n",
       "      <td id=\"T_ac516_row11_col1\" class=\"data row11 col1\" >1.2270</td>\n",
       "      <td id=\"T_ac516_row11_col2\" class=\"data row11 col2\" >2.6435</td>\n",
       "      <td id=\"T_ac516_row11_col3\" class=\"data row11 col3\" >1.5693</td>\n",
       "      <td id=\"T_ac516_row11_col4\" class=\"data row11 col4\" >0.8980</td>\n",
       "      <td id=\"T_ac516_row11_col5\" class=\"data row11 col5\" >0.1373</td>\n",
       "      <td id=\"T_ac516_row11_col6\" class=\"data row11 col6\" >0.1248</td>\n",
       "      <td id=\"T_ac516_row11_col7\" class=\"data row11 col7\" >3.6640</td>\n",
       "    </tr>\n",
       "    <tr>\n",
       "      <th id=\"T_ac516_level0_row12\" class=\"row_heading level0 row12\" >br</th>\n",
       "      <td id=\"T_ac516_row12_col0\" class=\"data row12 col0\" >Bayesian Ridge</td>\n",
       "      <td id=\"T_ac516_row12_col1\" class=\"data row12 col1\" >1.2299</td>\n",
       "      <td id=\"T_ac516_row12_col2\" class=\"data row12 col2\" >2.6472</td>\n",
       "      <td id=\"T_ac516_row12_col3\" class=\"data row12 col3\" >1.5717</td>\n",
       "      <td id=\"T_ac516_row12_col4\" class=\"data row12 col4\" >0.8979</td>\n",
       "      <td id=\"T_ac516_row12_col5\" class=\"data row12 col5\" >0.1371</td>\n",
       "      <td id=\"T_ac516_row12_col6\" class=\"data row12 col6\" >0.1247</td>\n",
       "      <td id=\"T_ac516_row12_col7\" class=\"data row12 col7\" >4.1110</td>\n",
       "    </tr>\n",
       "    <tr>\n",
       "      <th id=\"T_ac516_level0_row13\" class=\"row_heading level0 row13\" >huber</th>\n",
       "      <td id=\"T_ac516_row13_col0\" class=\"data row13 col0\" >Huber Regressor</td>\n",
       "      <td id=\"T_ac516_row13_col1\" class=\"data row13 col1\" >1.2120</td>\n",
       "      <td id=\"T_ac516_row13_col2\" class=\"data row13 col2\" >2.6441</td>\n",
       "      <td id=\"T_ac516_row13_col3\" class=\"data row13 col3\" >1.5687</td>\n",
       "      <td id=\"T_ac516_row13_col4\" class=\"data row13 col4\" >0.8979</td>\n",
       "      <td id=\"T_ac516_row13_col5\" class=\"data row13 col5\" >0.1405</td>\n",
       "      <td id=\"T_ac516_row13_col6\" class=\"data row13 col6\" >0.1263</td>\n",
       "      <td id=\"T_ac516_row13_col7\" class=\"data row13 col7\" >3.6650</td>\n",
       "    </tr>\n",
       "    <tr>\n",
       "      <th id=\"T_ac516_level0_row14\" class=\"row_heading level0 row14\" >lightgbm</th>\n",
       "      <td id=\"T_ac516_row14_col0\" class=\"data row14 col0\" >Light Gradient Boosting Machine</td>\n",
       "      <td id=\"T_ac516_row14_col1\" class=\"data row14 col1\" >1.2865</td>\n",
       "      <td id=\"T_ac516_row14_col2\" class=\"data row14 col2\" >2.8741</td>\n",
       "      <td id=\"T_ac516_row14_col3\" class=\"data row14 col3\" >1.6543</td>\n",
       "      <td id=\"T_ac516_row14_col4\" class=\"data row14 col4\" >0.8864</td>\n",
       "      <td id=\"T_ac516_row14_col5\" class=\"data row14 col5\" >0.1600</td>\n",
       "      <td id=\"T_ac516_row14_col6\" class=\"data row14 col6\" >0.1390</td>\n",
       "      <td id=\"T_ac516_row14_col7\" class=\"data row14 col7\" >4.9060</td>\n",
       "    </tr>\n",
       "    <tr>\n",
       "      <th id=\"T_ac516_level0_row15\" class=\"row_heading level0 row15\" >omp</th>\n",
       "      <td id=\"T_ac516_row15_col0\" class=\"data row15 col0\" >Orthogonal Matching Pursuit</td>\n",
       "      <td id=\"T_ac516_row15_col1\" class=\"data row15 col1\" >1.8674</td>\n",
       "      <td id=\"T_ac516_row15_col2\" class=\"data row15 col2\" >5.1469</td>\n",
       "      <td id=\"T_ac516_row15_col3\" class=\"data row15 col3\" >2.2365</td>\n",
       "      <td id=\"T_ac516_row15_col4\" class=\"data row15 col4\" >0.7950</td>\n",
       "      <td id=\"T_ac516_row15_col5\" class=\"data row15 col5\" >0.1674</td>\n",
       "      <td id=\"T_ac516_row15_col6\" class=\"data row15 col6\" >0.1623</td>\n",
       "      <td id=\"T_ac516_row15_col7\" class=\"data row15 col7\" >3.5120</td>\n",
       "    </tr>\n",
       "    <tr>\n",
       "      <th id=\"T_ac516_level0_row16\" class=\"row_heading level0 row16\" >dummy</th>\n",
       "      <td id=\"T_ac516_row16_col0\" class=\"data row16 col0\" >Dummy Regressor</td>\n",
       "      <td id=\"T_ac516_row16_col1\" class=\"data row16 col1\" >4.4835</td>\n",
       "      <td id=\"T_ac516_row16_col2\" class=\"data row16 col2\" >28.2729</td>\n",
       "      <td id=\"T_ac516_row16_col3\" class=\"data row16 col3\" >5.2122</td>\n",
       "      <td id=\"T_ac516_row16_col4\" class=\"data row16 col4\" >-0.0397</td>\n",
       "      <td id=\"T_ac516_row16_col5\" class=\"data row16 col5\" >0.3851</td>\n",
       "      <td id=\"T_ac516_row16_col6\" class=\"data row16 col6\" >0.4444</td>\n",
       "      <td id=\"T_ac516_row16_col7\" class=\"data row16 col7\" >5.0500</td>\n",
       "    </tr>\n",
       "    <tr>\n",
       "      <th id=\"T_ac516_level0_row17\" class=\"row_heading level0 row17\" >par</th>\n",
       "      <td id=\"T_ac516_row17_col0\" class=\"data row17 col0\" >Passive Aggressive Regressor</td>\n",
       "      <td id=\"T_ac516_row17_col1\" class=\"data row17 col1\" >5.9091</td>\n",
       "      <td id=\"T_ac516_row17_col2\" class=\"data row17 col2\" >65.7714</td>\n",
       "      <td id=\"T_ac516_row17_col3\" class=\"data row17 col3\" >7.1085</td>\n",
       "      <td id=\"T_ac516_row17_col4\" class=\"data row17 col4\" >-1.4214</td>\n",
       "      <td id=\"T_ac516_row17_col5\" class=\"data row17 col5\" >0.3402</td>\n",
       "      <td id=\"T_ac516_row17_col6\" class=\"data row17 col6\" >0.3936</td>\n",
       "      <td id=\"T_ac516_row17_col7\" class=\"data row17 col7\" >3.7050</td>\n",
       "    </tr>\n",
       "  </tbody>\n",
       "</table>\n"
      ],
      "text/plain": [
       "<pandas.io.formats.style.Styler at 0x1fc89e61510>"
      ]
     },
     "metadata": {},
     "output_type": "display_data"
    },
    {
     "data": {
      "application/vnd.jupyter.widget-view+json": {
       "model_id": "",
       "version_major": 2,
       "version_minor": 0
      },
      "text/plain": [
       "Processing:   0%|          | 0/77 [00:00<?, ?it/s]"
      ]
     },
     "metadata": {},
     "output_type": "display_data"
    },
    {
     "name": "stdout",
     "output_type": "stream",
     "text": [
      "ExtraTreesRegressor(n_jobs=-1, random_state=123)\n"
     ]
    }
   ],
   "source": [
    "from pycaret.regression import*\n",
    "\n",
    "reg_setup = setup(data=Sales_prid,target='Sales',session_id=123)\n",
    "best_model=compare_models()\n",
    "print(best_model)"
   ]
  },
  {
   "cell_type": "code",
   "execution_count": 13,
   "id": "9a461f83",
   "metadata": {},
   "outputs": [],
   "source": [
    "import pandas as pd\n",
    "from sklearn.model_selection import train_test_split\n",
    "from sklearn.linear_model import LinearRegression\n",
    "from sklearn.ensemble import RandomForestRegressor\n",
    "from sklearn.metrics import mean_squared_error, r2_score"
   ]
  },
  {
   "cell_type": "code",
   "execution_count": 14,
   "id": "85535b19",
   "metadata": {},
   "outputs": [
    {
     "name": "stdout",
     "output_type": "stream",
     "text": [
      "Linear Regression Mean Squared Error: 2.91\n",
      "Random Forest Mean Squared Error: 1.44\n",
      "Linear Regression R^2 Score: 0.91\n",
      "Random Forest R^2 Score: 0.95\n"
     ]
    }
   ],
   "source": [
    "# Separate the features (X) and target (y) variables\n",
    "X = Sales_prid[['TV', 'Radio', 'Newspaper']]\n",
    "y = Sales_prid['Sales']\n",
    "\n",
    "# Split the data into training and testing sets\n",
    "X_train, X_test, y_train, y_test = train_test_split(X, y, test_size=0.2, random_state=42)\n",
    "\n",
    "# Train a Linear Regression model\n",
    "linear_reg = LinearRegression()\n",
    "linear_reg.fit(X_train, y_train)\n",
    "\n",
    "# Train a Random Forest Regression model\n",
    "random_forest_reg = RandomForestRegressor(random_state=42)\n",
    "random_forest_reg.fit(X_train, y_train)\n",
    "\n",
    "# Make predictions on the test set\n",
    "y_pred_linear = linear_reg.predict(X_test)\n",
    "y_pred_rf = random_forest_reg.predict(X_test)\n",
    "\n",
    "# Evaluate the models\n",
    "linear_reg_mse = mean_squared_error(y_test, y_pred_linear)\n",
    "random_forest_mse = mean_squared_error(y_test, y_pred_rf)\n",
    "\n",
    "linear_reg_r2 = r2_score(y_test, y_pred_linear)\n",
    "random_forest_r2 = r2_score(y_test, y_pred_rf)\n",
    "\n",
    "print(f\"Linear Regression Mean Squared Error: {linear_reg_mse:.2f}\")\n",
    "print(f\"Random Forest Mean Squared Error: {random_forest_mse:.2f}\")\n",
    "\n",
    "print(f\"Linear Regression R^2 Score: {linear_reg_r2:.2f}\")\n",
    "print(f\"Random Forest R^2 Score: {random_forest_r2:.2f}\")\n"
   ]
  },
  {
   "cell_type": "markdown",
   "id": "5873143c",
   "metadata": {},
   "source": [
    "### Separate the features (X) and target (y) variables and train the model using Random Forest"
   ]
  },
  {
   "cell_type": "code",
   "execution_count": 15,
   "id": "36a39bd0",
   "metadata": {},
   "outputs": [
    {
     "data": {
      "text/html": [
       "<style>#sk-container-id-1 {color: black;background-color: white;}#sk-container-id-1 pre{padding: 0;}#sk-container-id-1 div.sk-toggleable {background-color: white;}#sk-container-id-1 label.sk-toggleable__label {cursor: pointer;display: block;width: 100%;margin-bottom: 0;padding: 0.3em;box-sizing: border-box;text-align: center;}#sk-container-id-1 label.sk-toggleable__label-arrow:before {content: \"▸\";float: left;margin-right: 0.25em;color: #696969;}#sk-container-id-1 label.sk-toggleable__label-arrow:hover:before {color: black;}#sk-container-id-1 div.sk-estimator:hover label.sk-toggleable__label-arrow:before {color: black;}#sk-container-id-1 div.sk-toggleable__content {max-height: 0;max-width: 0;overflow: hidden;text-align: left;background-color: #f0f8ff;}#sk-container-id-1 div.sk-toggleable__content pre {margin: 0.2em;color: black;border-radius: 0.25em;background-color: #f0f8ff;}#sk-container-id-1 input.sk-toggleable__control:checked~div.sk-toggleable__content {max-height: 200px;max-width: 100%;overflow: auto;}#sk-container-id-1 input.sk-toggleable__control:checked~label.sk-toggleable__label-arrow:before {content: \"▾\";}#sk-container-id-1 div.sk-estimator input.sk-toggleable__control:checked~label.sk-toggleable__label {background-color: #d4ebff;}#sk-container-id-1 div.sk-label input.sk-toggleable__control:checked~label.sk-toggleable__label {background-color: #d4ebff;}#sk-container-id-1 input.sk-hidden--visually {border: 0;clip: rect(1px 1px 1px 1px);clip: rect(1px, 1px, 1px, 1px);height: 1px;margin: -1px;overflow: hidden;padding: 0;position: absolute;width: 1px;}#sk-container-id-1 div.sk-estimator {font-family: monospace;background-color: #f0f8ff;border: 1px dotted black;border-radius: 0.25em;box-sizing: border-box;margin-bottom: 0.5em;}#sk-container-id-1 div.sk-estimator:hover {background-color: #d4ebff;}#sk-container-id-1 div.sk-parallel-item::after {content: \"\";width: 100%;border-bottom: 1px solid gray;flex-grow: 1;}#sk-container-id-1 div.sk-label:hover label.sk-toggleable__label {background-color: #d4ebff;}#sk-container-id-1 div.sk-serial::before {content: \"\";position: absolute;border-left: 1px solid gray;box-sizing: border-box;top: 0;bottom: 0;left: 50%;z-index: 0;}#sk-container-id-1 div.sk-serial {display: flex;flex-direction: column;align-items: center;background-color: white;padding-right: 0.2em;padding-left: 0.2em;position: relative;}#sk-container-id-1 div.sk-item {position: relative;z-index: 1;}#sk-container-id-1 div.sk-parallel {display: flex;align-items: stretch;justify-content: center;background-color: white;position: relative;}#sk-container-id-1 div.sk-item::before, #sk-container-id-1 div.sk-parallel-item::before {content: \"\";position: absolute;border-left: 1px solid gray;box-sizing: border-box;top: 0;bottom: 0;left: 50%;z-index: -1;}#sk-container-id-1 div.sk-parallel-item {display: flex;flex-direction: column;z-index: 1;position: relative;background-color: white;}#sk-container-id-1 div.sk-parallel-item:first-child::after {align-self: flex-end;width: 50%;}#sk-container-id-1 div.sk-parallel-item:last-child::after {align-self: flex-start;width: 50%;}#sk-container-id-1 div.sk-parallel-item:only-child::after {width: 0;}#sk-container-id-1 div.sk-dashed-wrapped {border: 1px dashed gray;margin: 0 0.4em 0.5em 0.4em;box-sizing: border-box;padding-bottom: 0.4em;background-color: white;}#sk-container-id-1 div.sk-label label {font-family: monospace;font-weight: bold;display: inline-block;line-height: 1.2em;}#sk-container-id-1 div.sk-label-container {text-align: center;}#sk-container-id-1 div.sk-container {/* jupyter's `normalize.less` sets `[hidden] { display: none; }` but bootstrap.min.css set `[hidden] { display: none !important; }` so we also need the `!important` here to be able to override the default hidden behavior on the sphinx rendered scikit-learn.org. See: https://github.com/scikit-learn/scikit-learn/issues/21755 */display: inline-block !important;position: relative;}#sk-container-id-1 div.sk-text-repr-fallback {display: none;}</style><div id=\"sk-container-id-1\" class=\"sk-top-container\"><div class=\"sk-text-repr-fallback\"><pre>RandomForestRegressor(random_state=42)</pre><b>In a Jupyter environment, please rerun this cell to show the HTML representation or trust the notebook. <br />On GitHub, the HTML representation is unable to render, please try loading this page with nbviewer.org.</b></div><div class=\"sk-container\" hidden><div class=\"sk-item\"><div class=\"sk-estimator sk-toggleable\"><input class=\"sk-toggleable__control sk-hidden--visually\" id=\"sk-estimator-id-1\" type=\"checkbox\" checked><label for=\"sk-estimator-id-1\" class=\"sk-toggleable__label sk-toggleable__label-arrow\">RandomForestRegressor</label><div class=\"sk-toggleable__content\"><pre>RandomForestRegressor(random_state=42)</pre></div></div></div></div></div>"
      ],
      "text/plain": [
       "RandomForestRegressor(random_state=42)"
      ]
     },
     "execution_count": 15,
     "metadata": {},
     "output_type": "execute_result"
    }
   ],
   "source": [
    "\n",
    "X = Sales_prid[['TV', 'Radio', 'Newspaper']]\n",
    "y = Sales_prid['Sales']\n",
    "\n",
    "# Train the Random Forest Regression model on the dataset\n",
    "rf_model = RandomForestRegressor(random_state=42)\n",
    "rf_model.fit(X, y)\n"
   ]
  },
  {
   "cell_type": "markdown",
   "id": "490a98ee",
   "metadata": {},
   "source": [
    "## Create a sample data to predict the sales"
   ]
  },
  {
   "cell_type": "code",
   "execution_count": 16,
   "id": "9b9da5ba",
   "metadata": {},
   "outputs": [],
   "source": [
    "\n",
    "# Assuming you have new data to predict 'Sales'\n",
    "# Here's an example of a new set of input features\n",
    "new_data = pd.DataFrame({\n",
    "    'TV': [250.0, 260.0, 213.5, 7.8, 44.7],\n",
    "    'Radio': [30.0, 37.5, 29.1, 53.3, 25.0],\n",
    "    'Newspaper': [40.0, 50.6, 47.2, 41.8, 20.0]\n",
    "})\n"
   ]
  },
  {
   "cell_type": "code",
   "execution_count": 17,
   "id": "5460473b",
   "metadata": {},
   "outputs": [
    {
     "name": "stdout",
     "output_type": "stream",
     "text": [
      "Predicted Sales:\n",
      "[20.021 23.147 18.181  6.395  9.62 ]\n"
     ]
    }
   ],
   "source": [
    "# Make predictions on the new set of input features\n",
    "predictions = rf_model.predict(new_data)\n",
    "\n",
    "# Print the predictions\n",
    "print(\"Predicted Sales:\")\n",
    "print(predictions)\n"
   ]
  },
  {
   "cell_type": "markdown",
   "id": "afdba6df",
   "metadata": {},
   "source": [
    "### This is the predictions sales which is predicted my model."
   ]
  },
  {
   "cell_type": "code",
   "execution_count": null,
   "id": "4c470352",
   "metadata": {},
   "outputs": [],
   "source": []
  }
 ],
 "metadata": {
  "kernelspec": {
   "display_name": "Python 3 (ipykernel)",
   "language": "python",
   "name": "python3"
  },
  "language_info": {
   "codemirror_mode": {
    "name": "ipython",
    "version": 3
   },
   "file_extension": ".py",
   "mimetype": "text/x-python",
   "name": "python",
   "nbconvert_exporter": "python",
   "pygments_lexer": "ipython3",
   "version": "3.10.9"
  }
 },
 "nbformat": 4,
 "nbformat_minor": 5
}
